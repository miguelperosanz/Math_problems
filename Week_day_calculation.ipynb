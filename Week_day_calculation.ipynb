{
 "cells": [
  {
   "cell_type": "code",
   "execution_count": 4,
   "metadata": {},
   "outputs": [
    {
     "name": "stdout",
     "output_type": "stream",
     "text": [
      "El año es bisiesto.\n",
      "Dias totales transcurridos desde el 1.1.1 =  737575\n",
      "Saturday\n"
     ]
    }
   ],
   "source": [
    "#Calculation of the week day for any date any year a.C.\n",
    "\n",
    "import numpy as np\n",
    "\n",
    "\n",
    "#INPUT DATE\n",
    "\n",
    "day=30\n",
    "month=5\n",
    "year=2020\n",
    "\n",
    "\n",
    "#CONCERNING THE YEAR\n",
    "\n",
    "days=np.zeros(year,int)\n",
    "\n",
    "\n",
    "days[0]=0\n",
    "i=1\n",
    "\n",
    "\n",
    "# Algoritmo de deteccion anyo bisiesto (encontrado en internet)\n",
    "while i<=year-1:\n",
    "\n",
    "    if i % 4 == 0:\n",
    "        if i % 100 == 0:\n",
    "            if i % 400 == 0:\n",
    "                days[i]=366\n",
    "            else:\n",
    "                days[i]=365\n",
    "        else:\n",
    "            days[i]=366\n",
    "    else:\n",
    "        days[i]=365\n",
    "\n",
    "    i=i+1\n",
    "    \n",
    "days_year=days.sum()\n",
    "\n",
    "\n",
    "#CONCERNING THE MONTH\n",
    "\n",
    "if year % 4 == 0:\n",
    "    if year % 100 == 0:\n",
    "        if year % 400 == 0:\n",
    "            feb=29\n",
    "            print('El año es bisiesto')\n",
    "        else:\n",
    "            feb=28\n",
    "            print('El año no es bisiesto')\n",
    "    else:        \n",
    "        feb=29\n",
    "        print('El año es bisiesto.')\n",
    "else:\n",
    "    feb=28\n",
    "    print('El año no es bisiesto.')\n",
    "\n",
    "\n",
    "    \n",
    "month=month-1\n",
    "month_year=sum([31,feb,31,30,31,30,31,31,30,31,30,31] [:month])\n",
    "\n",
    "    \n",
    "# SUMA TOTAL DE DIAS\n",
    "\n",
    "total = days_year + month_year + day\n",
    "\n",
    "print('Dias totales transcurridos desde el 1.1.1 = ',total)\n",
    "\n",
    "if total % 7 ==1:print('Monday')\n",
    "if total % 7 ==2:print('Tuesday')\n",
    "if total % 7 ==3:print('Wednesday')\n",
    "if total % 7 ==4:print('Thursday')\n",
    "if total % 7 ==5:print('Friday')\n",
    "if total % 7 ==6:print('Saturday')\n",
    "if total % 7 ==0:print('Sunday')\n",
    "\n"
   ]
  },
  {
   "cell_type": "code",
   "execution_count": 2,
   "metadata": {},
   "outputs": [
    {
     "name": "stdout",
     "output_type": "stream",
     "text": [
      "Wednesday\n"
     ]
    }
   ],
   "source": [
    "#Simpler version just for 2020\n",
    "\n",
    "import numpy as np\n",
    "\n",
    "month= 1\n",
    "day = 1\n",
    "\n",
    "year=[31,29,31,30,31,30,31,31,30,31,30,31]\n",
    "\n",
    "days_over=sum(year[0:month-1])\n",
    "\n",
    "days_total = days_over+day\n",
    "\n",
    "\n",
    "if days_total % 7 ==1:print('Wednesday')\n",
    "if days_total % 7 ==2:print('Thursday')\n",
    "if days_total % 7 ==3:print('Friday')\n",
    "if days_total % 7 ==4:print('Saturday')\n",
    "if days_total % 7 ==5:print('Sunday')\n",
    "if days_total % 7 ==6:print('Monday')\n",
    "if days_total % 7 ==7:print('Tuesday')    "
   ]
  },
  {
   "cell_type": "code",
   "execution_count": null,
   "metadata": {},
   "outputs": [],
   "source": []
  }
 ],
 "metadata": {
  "kernelspec": {
   "display_name": "Python 3",
   "language": "python",
   "name": "python3"
  },
  "language_info": {
   "codemirror_mode": {
    "name": "ipython",
    "version": 3
   },
   "file_extension": ".py",
   "mimetype": "text/x-python",
   "name": "python",
   "nbconvert_exporter": "python",
   "pygments_lexer": "ipython3",
   "version": "3.7.6"
  }
 },
 "nbformat": 4,
 "nbformat_minor": 4
}
