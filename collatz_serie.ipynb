{
 "cells": [
  {
   "cell_type": "code",
   "execution_count": 60,
   "metadata": {},
   "outputs": [],
   "source": [
    "#This code simulates the Collatz algorithm in order to create an array with the numbers.\n",
    "#The Collatz algorithm takes a first number and makes a sequence dividing the number by 2 when it is even. \n",
    "#If if is odd, it multiplies the number by 3 and adds 1.\n",
    "\n",
    "import numpy as np\n",
    "\n",
    "def Collatz(n,m):\n",
    "    \n",
    "    array=np.zeros(m)\n",
    "#    print(array)\n",
    "    \n",
    "    i=0\n",
    "    array[0]=n\n",
    "    \n",
    "    while i<=m-2:        \n",
    "\n",
    "        if array[i] % 2 ==0: \n",
    "            array[i+1] = array[i]/2 \n",
    "        \n",
    "        else: \n",
    "            array[i+1] = (array[i]*3)+1\n",
    "        \n",
    "        i=i+1\n",
    "    \n",
    "    return array\n",
    "\n",
    "    "
   ]
  },
  {
   "cell_type": "code",
   "execution_count": 63,
   "metadata": {},
   "outputs": [
    {
     "data": {
      "text/plain": [
       "array([19., 58., 29., 88., 44., 22., 11., 34., 17., 52.])"
      ]
     },
     "execution_count": 63,
     "metadata": {},
     "output_type": "execute_result"
    }
   ],
   "source": [
    "Collatz(19,10)"
   ]
  },
  {
   "cell_type": "code",
   "execution_count": null,
   "metadata": {},
   "outputs": [],
   "source": []
  }
 ],
 "metadata": {
  "kernelspec": {
   "display_name": "Python 3",
   "language": "python",
   "name": "python3"
  },
  "language_info": {
   "codemirror_mode": {
    "name": "ipython",
    "version": 3
   },
   "file_extension": ".py",
   "mimetype": "text/x-python",
   "name": "python",
   "nbconvert_exporter": "python",
   "pygments_lexer": "ipython3",
   "version": "3.7.6"
  }
 },
 "nbformat": 4,
 "nbformat_minor": 4
}
