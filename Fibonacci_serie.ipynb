{
 "cells": [
  {
   "cell_type": "code",
   "execution_count": 1,
   "metadata": {},
   "outputs": [],
   "source": [
    "# Sucesion de Fibonacci mediante bucle while:\n",
    "\n",
    "import numpy as np\n",
    "\n",
    "\n",
    "def fibonacci(n):\n",
    "    \n",
    "    num = np.zeros(n+1,dtype=int)\n",
    "        \n",
    "    num[0]=1\n",
    "    num[1]=1\n",
    "           \n",
    "    i=2 \n",
    "    \n",
    "    while i<=n:\n",
    "               \n",
    "\n",
    "        num[i]=num[i-1]+num[i-2]\n",
    "                \n",
    "        i=i+1\n",
    "    \n",
    "    \n",
    "    return num"
   ]
  },
  {
   "cell_type": "code",
   "execution_count": 2,
   "metadata": {},
   "outputs": [
    {
     "data": {
      "text/plain": [
       "array([ 1,  1,  2,  3,  5,  8, 13, 21, 34, 55, 89])"
      ]
     },
     "execution_count": 2,
     "metadata": {},
     "output_type": "execute_result"
    }
   ],
   "source": [
    "fibonacci(10)"
   ]
  },
  {
   "cell_type": "code",
   "execution_count": 1,
   "metadata": {},
   "outputs": [],
   "source": [
    "# Sucesión de Fibonacci mediante bucle for:\n",
    "\n",
    "def fibonacci(n):\n",
    "    \n",
    "    num=[1,2]\n",
    "    \n",
    "    for i in range(2,n):\n",
    "        \n",
    "        \n",
    "        num.append(num[i-2]+num[i-1])\n",
    "        \n",
    "\n",
    "        \n",
    "    return num    "
   ]
  },
  {
   "cell_type": "code",
   "execution_count": 2,
   "metadata": {},
   "outputs": [
    {
     "data": {
      "text/plain": [
       "[1, 2, 3, 5, 8, 13, 21, 34, 55, 89, 144, 233]"
      ]
     },
     "execution_count": 2,
     "metadata": {},
     "output_type": "execute_result"
    }
   ],
   "source": [
    "fibonacci(12)"
   ]
  },
  {
   "cell_type": "code",
   "execution_count": null,
   "metadata": {},
   "outputs": [],
   "source": []
  },
  {
   "cell_type": "code",
   "execution_count": null,
   "metadata": {},
   "outputs": [],
   "source": []
  }
 ],
 "metadata": {
  "kernelspec": {
   "display_name": "Python 3",
   "language": "python",
   "name": "python3"
  },
  "language_info": {
   "codemirror_mode": {
    "name": "ipython",
    "version": 3
   },
   "file_extension": ".py",
   "mimetype": "text/x-python",
   "name": "python",
   "nbconvert_exporter": "python",
   "pygments_lexer": "ipython3",
   "version": "3.7.6"
  }
 },
 "nbformat": 4,
 "nbformat_minor": 4
}
