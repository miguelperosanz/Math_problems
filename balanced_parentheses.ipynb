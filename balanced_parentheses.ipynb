{
 "cells": [
  {
   "cell_type": "code",
   "execution_count": 7,
   "metadata": {},
   "outputs": [],
   "source": [
    "program = '{()}([{}))'"
   ]
  },
  {
   "cell_type": "code",
   "execution_count": 8,
   "metadata": {
    "scrolled": true
   },
   "outputs": [
    {
     "name": "stdout",
     "output_type": "stream",
     "text": [
      "10\n"
     ]
    }
   ],
   "source": [
    "print(len(program))"
   ]
  },
  {
   "cell_type": "code",
   "execution_count": 9,
   "metadata": {},
   "outputs": [
    {
     "name": "stdout",
     "output_type": "stream",
     "text": [
      "i=  0 k=  0\n",
      "opening phase\n",
      "i=  1 k=  0\n",
      "opening phase\n",
      "i=  2 k=  1\n",
      "closing phase\n",
      "()\n",
      "i=  3 k=  0\n",
      "closing phase\n",
      "{}\n",
      "i=  4 k=  -1\n",
      "opening phase\n",
      "i=  5 k=  4\n",
      "opening phase\n",
      "i=  6 k=  5\n",
      "opening phase\n",
      "i=  7 k=  6\n",
      "closing phase\n",
      "{}\n",
      "i=  8 k=  5\n",
      "closing phase\n",
      "[)\n",
      "UNBALANCED\n"
     ]
    }
   ],
   "source": [
    "if len(program) % 2 != 0 or len(program) == 0:\n",
    "    \n",
    "        answer = \"UNBALANCED, odd number of characters or there is no input string\"\n",
    "else:\n",
    "        answer = \"BALANCED\"\n",
    "        \n",
    "        i = 0\n",
    "        k = 0\n",
    "        \n",
    "        while i < len(program) and answer == \"BALANCED\":\n",
    "            \n",
    "            print('i= ',i,'k= ',k)\n",
    "            \n",
    "            if program[i] in \"{[(\":\n",
    "\n",
    "                print('opening phase')\n",
    "                \n",
    "                k=i\n",
    "    \n",
    "                i += 1\n",
    "        \n",
    "            else:\n",
    "\n",
    "                print('closing phase')\n",
    "                print(program[k]+program[i])\n",
    "                \n",
    "                if program[k]+program[i] not in \"()\" and program[k]+program[i] not in \"[]\" and program[k]+program[i] not in \"{}\":\n",
    "                    answer = \"UNBALANCED\"\n",
    "                \n",
    "                i += 1\n",
    "                k -= 1\n",
    "                \n",
    "print(answer)\n",
    "    "
   ]
  },
  {
   "cell_type": "code",
   "execution_count": 4,
   "metadata": {},
   "outputs": [
    {
     "name": "stdout",
     "output_type": "stream",
     "text": [
      "{[{}]} - Balanced\n"
     ]
    }
   ],
   "source": [
    "def check(my_string):                                   # Comienzo funcion de nombre check, variable my_string\n",
    "    brackets = ['()', '{}', '[]']                       # Defino los pares de brackets mediante una lista\n",
    "    while any(x in my_string for x in brackets):        # Hago el bucle, buscando el primer par de brackets interior. Al meter \"any\", le digo que busque si es true or false que los del centro son así\n",
    "        for i in brackets:                              # Le digo que vaya recorriendo con el for, los 3 elementos de la lista brackets\n",
    "            my_string = my_string.replace(i, '')        # En caso de que sea true (existe), le digo que los elimine, reemplazandolos por nada (''). Ahora volverán a estar juntos y puedo volver a usar la iteración\n",
    "    return not my_string                                # with return not, 0 (false) means success.  \n",
    "# Driver code \n",
    "string = \"{[{}]}\"\n",
    "print(string, \"-\", \"Balanced\"                           \n",
    "      if check(string) else \"Unbalanced\") "
   ]
  },
  {
   "cell_type": "code",
   "execution_count": null,
   "metadata": {},
   "outputs": [],
   "source": []
  }
 ],
 "metadata": {
  "kernelspec": {
   "display_name": "Python 3",
   "language": "python",
   "name": "python3"
  },
  "language_info": {
   "codemirror_mode": {
    "name": "ipython",
    "version": 3
   },
   "file_extension": ".py",
   "mimetype": "text/x-python",
   "name": "python",
   "nbconvert_exporter": "python",
   "pygments_lexer": "ipython3",
   "version": "3.7.6"
  }
 },
 "nbformat": 4,
 "nbformat_minor": 4
}
