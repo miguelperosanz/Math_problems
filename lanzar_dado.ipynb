{
 "cells": [
  {
   "cell_type": "code",
   "execution_count": 8,
   "metadata": {},
   "outputs": [
    {
     "name": "stdout",
     "output_type": "stream",
     "text": [
      "[4. 2. 5. 5. 3. 5. 1. 1. 3. 1. 3. 5. 3. 3. 4. 4. 1. 1. 1. 2. 4. 4. 3. 2.\n",
      " 3. 4. 2. 3. 1. 4. 1. 5. 2. 3. 5. 3. 3. 3. 3. 3. 3. 2. 1. 4. 1. 3. 2. 4.\n",
      " 4. 5.]\n",
      "Number of times with number \"1\"=  10\n"
     ]
    }
   ],
   "source": [
    "#the script \"rolls\" a die 50 times and counts how many times we have the number \"1\" with a \"while loop\"\n",
    "#lanzar 50 veces un dado y contar cuantas veces sale el numero 1 con bucle while\n",
    "\n",
    "\n",
    "import numpy as np\n",
    "\n",
    "values=np.zeros(50) #We generate the array with 50 zeros and we start to fill it with values\n",
    "\n",
    "i=0\n",
    "\n",
    "while i<=49:\n",
    "    \n",
    "    values[i]=np.random.randint(low=1, high=6)\n",
    "                \n",
    "    i=i+1\n",
    "\n",
    "print(values)\n",
    "\n",
    "print('Number of times with number \"1\"= ',np.sum(values==1))\n",
    "\n"
   ]
  },
  {
   "cell_type": "code",
   "execution_count": 9,
   "metadata": {
    "scrolled": true
   },
   "outputs": [
    {
     "name": "stdout",
     "output_type": "stream",
     "text": [
      "[1. 2. 3. 5. 3. 1. 4. 4. 3. 1. 5. 2. 4. 1. 1. 4. 3. 2. 5. 3. 3. 2. 4. 5.\n",
      " 2. 5. 3. 3. 3. 5. 2. 3. 2. 1. 5. 4. 5. 2. 1. 3. 4. 1. 2. 5. 5. 5. 4. 3.\n",
      " 4. 2.]\n",
      "Number of times with number \"1\"=  8\n"
     ]
    }
   ],
   "source": [
    "#the script \"rolls\" a die 50 times and counts how many times we have the number \"1\" with a \"for loop\"\n",
    "#lanzar 50 veces un dado y contar cuantas veces sale el numero 1 con bucle for\n",
    "\n",
    "import numpy as np\n",
    "\n",
    "values2=np.zeros(50) #Generamos el array para ir rellenandolo\n",
    "\n",
    "\n",
    "for i in range(0,50):\n",
    "        \n",
    "    values2[i]=np.random.randint(low=1, high=6)\n",
    "        \n",
    "\n",
    "print(values2)\n",
    "\n",
    "print('Number of times with number \"1\"= ',np.sum(values2==1))\n"
   ]
  },
  {
   "cell_type": "code",
   "execution_count": 10,
   "metadata": {},
   "outputs": [],
   "source": [
    "# Generic script for the generic roll (n times) of the die\n",
    "\n",
    "import numpy as np\n",
    "\n",
    "def dados(n):\n",
    "    \n",
    "    values3=np.zeros(n) #Generamos el array para ir rellenandolo\n",
    "    \n",
    "    for i in range(0,n):\n",
    "        \n",
    "        values3[i]=np.random.randint(low=1, high=6)\n",
    "        \n",
    "        \n",
    "    \n",
    "    return values3,'number of times with number \"1\"= ', np.sum(values3==1)    "
   ]
  },
  {
   "cell_type": "code",
   "execution_count": 12,
   "metadata": {},
   "outputs": [
    {
     "data": {
      "text/plain": [
       "(array([4., 2., 1., 1., 4., 2., 2., 5., 1., 2.]),\n",
       " 'number of times with number \"1\"= ',\n",
       " 3)"
      ]
     },
     "execution_count": 12,
     "metadata": {},
     "output_type": "execute_result"
    }
   ],
   "source": [
    "dados(10)"
   ]
  },
  {
   "cell_type": "code",
   "execution_count": null,
   "metadata": {},
   "outputs": [],
   "source": []
  }
 ],
 "metadata": {
  "kernelspec": {
   "display_name": "Python 3",
   "language": "python",
   "name": "python3"
  },
  "language_info": {
   "codemirror_mode": {
    "name": "ipython",
    "version": 3
   },
   "file_extension": ".py",
   "mimetype": "text/x-python",
   "name": "python",
   "nbconvert_exporter": "python",
   "pygments_lexer": "ipython3",
   "version": "3.7.6"
  }
 },
 "nbformat": 4,
 "nbformat_minor": 4
}
