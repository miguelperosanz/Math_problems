{
 "cells": [
  {
   "cell_type": "code",
   "execution_count": 11,
   "metadata": {},
   "outputs": [],
   "source": [
    "import numpy as np"
   ]
  },
  {
   "cell_type": "code",
   "execution_count": 5,
   "metadata": {},
   "outputs": [],
   "source": [
    "# Realización del triángulo mediante una función de bucle for\n",
    "\n",
    "def trianguloPascal(n):\n",
    "    \n",
    "    lista = [[1],[1,1]]\n",
    "    \n",
    "    for i in range(1,n):\n",
    "        \n",
    "        linea = [1]\n",
    "        \n",
    "        for j in range(0,len(lista[i])-1):\n",
    "            \n",
    "            linea.extend([ lista[i][j] + lista[i][j+1] ])\n",
    "            \n",
    "        linea += [1]\n",
    "        \n",
    "        lista.append(linea)  #con esto simplemente le anyadimos siempre el uno al final \n",
    "        \n",
    "    return lista"
   ]
  },
  {
   "cell_type": "code",
   "execution_count": 6,
   "metadata": {},
   "outputs": [
    {
     "name": "stdout",
     "output_type": "stream",
     "text": [
      "[[1], [1, 1], [1, 2, 1], [1, 3, 3, 1], [1, 4, 6, 4, 1]]\n"
     ]
    }
   ],
   "source": [
    "print(trianguloPascal(4))"
   ]
  },
  {
   "cell_type": "code",
   "execution_count": 156,
   "metadata": {},
   "outputs": [],
   "source": [
    "# Triangulo de pascal mediante una función de bucle while\n",
    "\n",
    "\n",
    "def triangle(n):\n",
    "    \n",
    "    matrix = np.zeros((n,((n*2)-1)),dtype=int)\n",
    "    matrix[0,n-1]=1\n",
    "    \n",
    "\n",
    "    i=1\n",
    "    \n",
    "    while i<=n-1:\n",
    "        \n",
    "        j=1\n",
    "    \n",
    "        while j<=((n*2)-3):\n",
    "    \n",
    "            matrix[i,j]=matrix[i-1,j-1]+matrix[i-1,j+1]\n",
    "        \n",
    "            j += 1\n",
    "            \n",
    "        i += 1\n",
    "        \n",
    "        matrix[n-1,0]=1               #Aquí introduzco los unos de la ultima linea\n",
    "        matrix[n-1,((n*2)-2)]=1   \n",
    " \n",
    "\n",
    "        \n",
    "    return matrix       "
   ]
  },
  {
   "cell_type": "code",
   "execution_count": 157,
   "metadata": {},
   "outputs": [
    {
     "data": {
      "text/plain": [
       "array([[ 0,  0,  0,  0,  0,  0,  0,  1,  0,  0,  0,  0,  0,  0,  0],\n",
       "       [ 0,  0,  0,  0,  0,  0,  1,  0,  1,  0,  0,  0,  0,  0,  0],\n",
       "       [ 0,  0,  0,  0,  0,  1,  0,  2,  0,  1,  0,  0,  0,  0,  0],\n",
       "       [ 0,  0,  0,  0,  1,  0,  3,  0,  3,  0,  1,  0,  0,  0,  0],\n",
       "       [ 0,  0,  0,  1,  0,  4,  0,  6,  0,  4,  0,  1,  0,  0,  0],\n",
       "       [ 0,  0,  1,  0,  5,  0, 10,  0, 10,  0,  5,  0,  1,  0,  0],\n",
       "       [ 0,  1,  0,  6,  0, 15,  0, 20,  0, 15,  0,  6,  0,  1,  0],\n",
       "       [ 1,  0,  7,  0, 21,  0, 35,  0, 35,  0, 21,  0,  7,  0,  1]])"
      ]
     },
     "execution_count": 157,
     "metadata": {},
     "output_type": "execute_result"
    }
   ],
   "source": [
    "triangle(8)"
   ]
  },
  {
   "cell_type": "code",
   "execution_count": null,
   "metadata": {},
   "outputs": [],
   "source": []
  },
  {
   "cell_type": "code",
   "execution_count": 159,
   "metadata": {},
   "outputs": [
    {
     "data": {
      "text/plain": [
       "[1, 1, 1, 2, 1]"
      ]
     },
     "execution_count": 159,
     "metadata": {},
     "output_type": "execute_result"
    }
   ],
   "source": [
    "[1, 1]+[1, 2, 1]"
   ]
  },
  {
   "cell_type": "code",
   "execution_count": 160,
   "metadata": {},
   "outputs": [],
   "source": [
    " lista = [[1],[1,1]]"
   ]
  },
  {
   "cell_type": "code",
   "execution_count": 163,
   "metadata": {},
   "outputs": [
    {
     "data": {
      "text/plain": [
       "2"
      ]
     },
     "execution_count": 163,
     "metadata": {},
     "output_type": "execute_result"
    }
   ],
   "source": [
    "lista[1][0] + lista[1][1]"
   ]
  },
  {
   "cell_type": "code",
   "execution_count": 166,
   "metadata": {},
   "outputs": [],
   "source": [
    "lista.append([1,2,1])"
   ]
  },
  {
   "cell_type": "code",
   "execution_count": 167,
   "metadata": {},
   "outputs": [
    {
     "data": {
      "text/plain": [
       "[[1], [1, 1], 2, [1, 2, 1]]"
      ]
     },
     "execution_count": 167,
     "metadata": {},
     "output_type": "execute_result"
    }
   ],
   "source": [
    "lista"
   ]
  },
  {
   "cell_type": "code",
   "execution_count": null,
   "metadata": {},
   "outputs": [],
   "source": []
  }
 ],
 "metadata": {
  "kernelspec": {
   "display_name": "Python 3",
   "language": "python",
   "name": "python3"
  },
  "language_info": {
   "codemirror_mode": {
    "name": "ipython",
    "version": 3
   },
   "file_extension": ".py",
   "mimetype": "text/x-python",
   "name": "python",
   "nbconvert_exporter": "python",
   "pygments_lexer": "ipython3",
   "version": "3.7.6"
  }
 },
 "nbformat": 4,
 "nbformat_minor": 4
}
